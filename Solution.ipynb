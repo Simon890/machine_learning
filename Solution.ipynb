{
 "cells": [
  {
   "cell_type": "markdown",
   "id": "eca34c5e-4c7f-4f63-81d8-b79e385dda04",
   "metadata": {},
   "source": [
    "# Clothe detection - NN - Keras"
   ]
  },
  {
   "cell_type": "markdown",
   "id": "320e9b6c-58fd-4235-9df7-af277779ce86",
   "metadata": {},
   "source": [
    "## Importing libraries"
   ]
  },
  {
   "cell_type": "code",
   "execution_count": 48,
   "id": "c9376949-6d64-4275-ba4e-02e2ccbef15f",
   "metadata": {},
   "outputs": [],
   "source": [
    "import tensorflow as tf\n",
    "from tensorflow import keras\n",
    "from sklearn.model_selection import train_test_split\n",
    "import matplotlib.pyplot as plt\n",
    "import pandas as pd\n",
    "import numpy as np\n",
    "import os\n",
    "os.environ['TF_CPP_MIN_LOG_LEVEL'] = '2' "
   ]
  },
  {
   "cell_type": "code",
   "execution_count": 27,
   "id": "7e9dae4b-f548-4f73-911d-10d14f1a50b9",
   "metadata": {},
   "outputs": [],
   "source": [
    "fashion_mnist = tf.keras.datasets.fashion_mnist.load_data()"
   ]
  },
  {
   "cell_type": "markdown",
   "id": "812510d8-fdbd-440f-9a07-cfec6cddfc6d",
   "metadata": {},
   "source": [
    "Fashim_minst is an array where each element is an image in binary grayscale.\n",
    "\n",
    "Each image is represented as a 28 x 28 array instead of a 1D array of 784. \n",
    "\n",
    "The pixel intensities are represented as integers from 0 to 255"
   ]
  },
  {
   "cell_type": "code",
   "execution_count": 16,
   "id": "cf14c963-85ff-462e-a1a3-d7a7360e7983",
   "metadata": {},
   "outputs": [],
   "source": [
    "(X_train_full, y_train_full), (X_test, y_test) = fashion_mnist"
   ]
  },
  {
   "cell_type": "code",
   "execution_count": 21,
   "id": "256a8f15-bdee-4bc0-9c00-9a00c71d9417",
   "metadata": {},
   "outputs": [],
   "source": [
    "X_train, y_train = X_train_full[:-5000], y_train_full[:-5000]\n",
    "X_valid, y_valid = X_test[-5000:], y_test[-5000:]"
   ]
  },
  {
   "cell_type": "code",
   "execution_count": 22,
   "id": "fe4f4a69-bddc-433e-bf7f-d03051ee6649",
   "metadata": {},
   "outputs": [
    {
     "data": {
      "text/plain": [
       "(55000, 28, 28)"
      ]
     },
     "execution_count": 22,
     "metadata": {},
     "output_type": "execute_result"
    }
   ],
   "source": [
    "X_train.shape"
   ]
  },
  {
   "cell_type": "code",
   "execution_count": 23,
   "id": "df403639-a72a-48ea-845d-7d66d3f2f6cc",
   "metadata": {},
   "outputs": [
    {
     "data": {
      "text/plain": [
       "dtype('uint8')"
      ]
     },
     "execution_count": 23,
     "metadata": {},
     "output_type": "execute_result"
    }
   ],
   "source": [
    "X_train.dtype"
   ]
  },
  {
   "cell_type": "markdown",
   "id": "9839fd82-7aad-4df5-a5b9-8d640229e1d3",
   "metadata": {},
   "source": [
    "We need to scale the pixel between 0-1 range by dividing them by 255.0 (It will convert them to floats)"
   ]
  },
  {
   "cell_type": "code",
   "execution_count": 24,
   "id": "16189543-7d4b-4008-9550-b4c452f6366a",
   "metadata": {},
   "outputs": [],
   "source": [
    "X_train, X_valid, X_test = X_train / 255.0, X_valid / 255.0, X_test / 255.0"
   ]
  },
  {
   "cell_type": "code",
   "execution_count": 28,
   "id": "2e99dc03-dded-4384-9942-2e5289699e91",
   "metadata": {},
   "outputs": [],
   "source": [
    "class_names = [\"T-shirt/top\", \"Trouser\", \"Pullover\", \"Dress\", \"Coat\", \"Sandal\", \"Shirt\", \"Sneaker\", \"Bag\", \"Ankle boot\"]"
   ]
  },
  {
   "cell_type": "code",
   "execution_count": 29,
   "id": "1ce5294c-b47d-40f8-8b62-2855b086c619",
   "metadata": {},
   "outputs": [
    {
     "data": {
      "text/plain": [
       "'Ankle boot'"
      ]
     },
     "execution_count": 29,
     "metadata": {},
     "output_type": "execute_result"
    }
   ],
   "source": [
    "class_names[y_train[0]]"
   ]
  },
  {
   "cell_type": "markdown",
   "id": "9f6ad4a0-73a2-428d-9123-05d7cb9c0d5d",
   "metadata": {},
   "source": [
    "## Create model with Sequential API"
   ]
  },
  {
   "cell_type": "code",
   "execution_count": 32,
   "id": "afcd6741-d62a-428c-94ec-902e10ee7d4c",
   "metadata": {},
   "outputs": [],
   "source": [
    "tf.random.set_seed(42)\n",
    "model = tf.keras.Sequential()\n",
    "model.add(tf.keras.layers.Input(shape=[28, 28]))\n",
    "model.add(tf.keras.layers.Flatten())\n",
    "model.add(tf.keras.layers.Dense(300, activation=\"relu\"))\n",
    "model.add(tf.keras.layers.Dense(100, activation=\"relu\"))\n",
    "model.add(tf.keras.layers.Dense(10, activation=\"softmax\"))"
   ]
  },
  {
   "cell_type": "markdown",
   "id": "8fd67961-e1a4-4de2-b99d-e20e3bd4dc4f",
   "metadata": {},
   "source": [
    "### Explanation\n",
    "1. We set Tesorflow's random seed to make the results reproducible.\n",
    "2. We create a sequential model. This is the simplest model that are just composed of a single stack of layers connected sequentially.\n",
    "3. Next, we build the first layer (Input) and add it to the model.\n",
    "4. We add a Flatten layer that converts each input image into a 1D array. If the shape is 28 x 28 it will flatten it to 784\n",
    "5. We add a Dense hidden layer with 300 neurons that use the relu activation function. Each dense layer manages its own weight matrix.\n",
    "6. We add a second dense hidden layer with 100 neurons.\n",
    "7. Finally, we add a Dense output layer with 10 neurons (one per class) using the softmax function because the classes are exlusive."
   ]
  },
  {
   "cell_type": "code",
   "execution_count": 33,
   "id": "44ffc1c2-04bc-4376-8a35-c0da7581e157",
   "metadata": {},
   "outputs": [
    {
     "name": "stdout",
     "output_type": "stream",
     "text": [
      "Model: \"sequential_1\"\n",
      "_________________________________________________________________\n",
      " Layer (type)                Output Shape              Param #   \n",
      "=================================================================\n",
      " flatten_1 (Flatten)         (None, 784)               0         \n",
      "                                                                 \n",
      " dense_3 (Dense)             (None, 300)               235500    \n",
      "                                                                 \n",
      " dense_4 (Dense)             (None, 100)               30100     \n",
      "                                                                 \n",
      " dense_5 (Dense)             (None, 10)                1010      \n",
      "                                                                 \n",
      "=================================================================\n",
      "Total params: 266610 (1.02 MB)\n",
      "Trainable params: 266610 (1.02 MB)\n",
      "Non-trainable params: 0 (0.00 Byte)\n",
      "_________________________________________________________________\n"
     ]
    }
   ],
   "source": [
    "model.summary()"
   ]
  },
  {
   "cell_type": "code",
   "execution_count": 34,
   "id": "b1e5e785-289a-46d5-99e4-6b6c5668f18d",
   "metadata": {},
   "outputs": [
    {
     "data": {
      "text/plain": [
       "[<keras.src.layers.reshaping.flatten.Flatten at 0x7f775b2ff5e0>,\n",
       " <keras.src.layers.core.dense.Dense at 0x7f775a9e2a40>,\n",
       " <keras.src.layers.core.dense.Dense at 0x7f775acbc3d0>,\n",
       " <keras.src.layers.core.dense.Dense at 0x7f775ace6650>]"
      ]
     },
     "execution_count": 34,
     "metadata": {},
     "output_type": "execute_result"
    }
   ],
   "source": [
    "model.layers"
   ]
  },
  {
   "cell_type": "code",
   "execution_count": 37,
   "id": "cbc73ad0-11e7-4ad1-8a6b-757f782981e9",
   "metadata": {},
   "outputs": [],
   "source": [
    "weights, biases = model.layers[1].get_weights()"
   ]
  },
  {
   "cell_type": "code",
   "execution_count": 38,
   "id": "6b77e00b-7d4a-4aae-aa87-145d1ebfceef",
   "metadata": {},
   "outputs": [
    {
     "data": {
      "text/plain": [
       "array([[-0.00723255,  0.01999971, -0.00401317, ...,  0.05069391,\n",
       "         0.03125893, -0.04822   ],\n",
       "       [ 0.02767061, -0.04321844, -0.03094533, ...,  0.03026091,\n",
       "        -0.07349665, -0.05914466],\n",
       "       [-0.02861355, -0.02747106, -0.01967055, ..., -0.01537863,\n",
       "         0.02672997,  0.03738043],\n",
       "       ...,\n",
       "       [-0.01546647,  0.00896215,  0.01639029, ...,  0.03861678,\n",
       "        -0.05014536, -0.01845308],\n",
       "       [-0.02087749,  0.07084669, -0.07328918, ...,  0.03038879,\n",
       "        -0.05147161,  0.05316515],\n",
       "       [ 0.06677544,  0.00549341,  0.00892608, ..., -0.02463179,\n",
       "         0.02566045, -0.01499402]], dtype=float32)"
      ]
     },
     "execution_count": 38,
     "metadata": {},
     "output_type": "execute_result"
    }
   ],
   "source": [
    "weights"
   ]
  },
  {
   "cell_type": "code",
   "execution_count": 39,
   "id": "38165d58-f7af-4db0-9265-622f41a1cb20",
   "metadata": {},
   "outputs": [
    {
     "data": {
      "text/plain": [
       "array([0., 0., 0., 0., 0., 0., 0., 0., 0., 0., 0., 0., 0., 0., 0., 0., 0.,\n",
       "       0., 0., 0., 0., 0., 0., 0., 0., 0., 0., 0., 0., 0., 0., 0., 0., 0.,\n",
       "       0., 0., 0., 0., 0., 0., 0., 0., 0., 0., 0., 0., 0., 0., 0., 0., 0.,\n",
       "       0., 0., 0., 0., 0., 0., 0., 0., 0., 0., 0., 0., 0., 0., 0., 0., 0.,\n",
       "       0., 0., 0., 0., 0., 0., 0., 0., 0., 0., 0., 0., 0., 0., 0., 0., 0.,\n",
       "       0., 0., 0., 0., 0., 0., 0., 0., 0., 0., 0., 0., 0., 0., 0., 0., 0.,\n",
       "       0., 0., 0., 0., 0., 0., 0., 0., 0., 0., 0., 0., 0., 0., 0., 0., 0.,\n",
       "       0., 0., 0., 0., 0., 0., 0., 0., 0., 0., 0., 0., 0., 0., 0., 0., 0.,\n",
       "       0., 0., 0., 0., 0., 0., 0., 0., 0., 0., 0., 0., 0., 0., 0., 0., 0.,\n",
       "       0., 0., 0., 0., 0., 0., 0., 0., 0., 0., 0., 0., 0., 0., 0., 0., 0.,\n",
       "       0., 0., 0., 0., 0., 0., 0., 0., 0., 0., 0., 0., 0., 0., 0., 0., 0.,\n",
       "       0., 0., 0., 0., 0., 0., 0., 0., 0., 0., 0., 0., 0., 0., 0., 0., 0.,\n",
       "       0., 0., 0., 0., 0., 0., 0., 0., 0., 0., 0., 0., 0., 0., 0., 0., 0.,\n",
       "       0., 0., 0., 0., 0., 0., 0., 0., 0., 0., 0., 0., 0., 0., 0., 0., 0.,\n",
       "       0., 0., 0., 0., 0., 0., 0., 0., 0., 0., 0., 0., 0., 0., 0., 0., 0.,\n",
       "       0., 0., 0., 0., 0., 0., 0., 0., 0., 0., 0., 0., 0., 0., 0., 0., 0.,\n",
       "       0., 0., 0., 0., 0., 0., 0., 0., 0., 0., 0., 0., 0., 0., 0., 0., 0.,\n",
       "       0., 0., 0., 0., 0., 0., 0., 0., 0., 0., 0.], dtype=float32)"
      ]
     },
     "execution_count": 39,
     "metadata": {},
     "output_type": "execute_result"
    }
   ],
   "source": [
    "biases"
   ]
  },
  {
   "cell_type": "markdown",
   "id": "c72c80c7-990e-4807-b42f-8d63eb60a2c7",
   "metadata": {},
   "source": [
    "The weights are initialized randomly to break simmetry and the biases were initialized to zeros"
   ]
  },
  {
   "cell_type": "code",
   "execution_count": 40,
   "id": "f373e8ff-3803-4eeb-b6d5-9c8205b34013",
   "metadata": {},
   "outputs": [],
   "source": [
    "model.compile(loss=\"sparse_categorical_crossentropy\", optimizer=\"sgd\", metrics=[\"accuracy\"])"
   ]
  },
  {
   "cell_type": "markdown",
   "id": "fe628caa-8eae-4199-baf0-dbccb7c23473",
   "metadata": {},
   "source": [
    "The sparse_categorical_crossentropy is used because we have sparse labels (For each instance, there is just a target class index from 0 to 9) and the classes are exclusive.\n",
    "\n",
    "The optimizer is sdg wich means we'll use Stochastic Gradien Descendent"
   ]
  },
  {
   "cell_type": "code",
   "execution_count": 41,
   "id": "d59384f6-9af7-44a6-9ed6-8058f89b2b89",
   "metadata": {},
   "outputs": [
    {
     "name": "stdout",
     "output_type": "stream",
     "text": [
      "Epoch 1/30\n"
     ]
    },
    {
     "name": "stderr",
     "output_type": "stream",
     "text": [
      "2024-02-17 15:42:46.416602: I external/local_tsl/tsl/platform/default/subprocess.cc:304] Start cannot spawn child process: No such file or directory\n",
      "2024-02-17 15:42:46.562760: I external/local_xla/xla/service/service.cc:168] XLA service 0x55a4f99a7690 initialized for platform CUDA (this does not guarantee that XLA will be used). Devices:\n",
      "2024-02-17 15:42:46.562784: I external/local_xla/xla/service/service.cc:176]   StreamExecutor device (0): NVIDIA GeForce GTX 1660 SUPER, Compute Capability 7.5\n",
      "2024-02-17 15:42:46.604150: I external/local_xla/xla/stream_executor/cuda/cuda_dnn.cc:454] Loaded cuDNN version 8902\n"
     ]
    },
    {
     "name": "stdout",
     "output_type": "stream",
     "text": [
      "   1/1719 [..............................] - ETA: 27:04 - loss: 2.4226 - accuracy: 0.0312"
     ]
    },
    {
     "name": "stderr",
     "output_type": "stream",
     "text": [
      "WARNING: All log messages before absl::InitializeLog() is called are written to STDERR\n",
      "I0000 00:00:1708195366.666561   11248 device_compiler.h:186] Compiled cluster using XLA!  This line is logged at most once for the lifetime of the process.\n"
     ]
    },
    {
     "name": "stdout",
     "output_type": "stream",
     "text": [
      "1719/1719 [==============================] - 3s 1ms/step - loss: 0.7081 - accuracy: 0.7700 - val_loss: 0.5398 - val_accuracy: 0.8130\n",
      "Epoch 2/30\n",
      "1719/1719 [==============================] - 2s 1ms/step - loss: 0.4860 - accuracy: 0.8317 - val_loss: 0.4972 - val_accuracy: 0.8178\n",
      "Epoch 3/30\n",
      "1719/1719 [==============================] - 2s 1ms/step - loss: 0.4382 - accuracy: 0.8467 - val_loss: 0.4631 - val_accuracy: 0.8336\n",
      "Epoch 4/30\n",
      "1719/1719 [==============================] - 2s 1ms/step - loss: 0.4128 - accuracy: 0.8556 - val_loss: 0.4261 - val_accuracy: 0.8466\n",
      "Epoch 5/30\n",
      "1719/1719 [==============================] - 2s 1ms/step - loss: 0.3916 - accuracy: 0.8632 - val_loss: 0.4238 - val_accuracy: 0.8490\n",
      "Epoch 6/30\n",
      "1719/1719 [==============================] - 2s 1ms/step - loss: 0.3753 - accuracy: 0.8685 - val_loss: 0.4302 - val_accuracy: 0.8458\n",
      "Epoch 7/30\n",
      "1719/1719 [==============================] - 2s 1ms/step - loss: 0.3628 - accuracy: 0.8708 - val_loss: 0.3967 - val_accuracy: 0.8584\n",
      "Epoch 8/30\n",
      "1719/1719 [==============================] - 2s 1ms/step - loss: 0.3517 - accuracy: 0.8758 - val_loss: 0.4046 - val_accuracy: 0.8542\n",
      "Epoch 9/30\n",
      "1719/1719 [==============================] - 2s 1ms/step - loss: 0.3410 - accuracy: 0.8795 - val_loss: 0.3728 - val_accuracy: 0.8662\n",
      "Epoch 10/30\n",
      "1719/1719 [==============================] - 2s 1ms/step - loss: 0.3310 - accuracy: 0.8817 - val_loss: 0.3746 - val_accuracy: 0.8668\n",
      "Epoch 11/30\n",
      "1719/1719 [==============================] - 2s 1ms/step - loss: 0.3231 - accuracy: 0.8848 - val_loss: 0.3916 - val_accuracy: 0.8518\n",
      "Epoch 12/30\n",
      "1719/1719 [==============================] - 2s 1ms/step - loss: 0.3152 - accuracy: 0.8868 - val_loss: 0.3639 - val_accuracy: 0.8682\n",
      "Epoch 13/30\n",
      "1719/1719 [==============================] - 2s 1ms/step - loss: 0.3074 - accuracy: 0.8910 - val_loss: 0.3498 - val_accuracy: 0.8732\n",
      "Epoch 14/30\n",
      "1719/1719 [==============================] - 2s 1ms/step - loss: 0.3007 - accuracy: 0.8921 - val_loss: 0.3575 - val_accuracy: 0.8714\n",
      "Epoch 15/30\n",
      "1719/1719 [==============================] - 2s 1ms/step - loss: 0.2945 - accuracy: 0.8947 - val_loss: 0.3518 - val_accuracy: 0.8742\n",
      "Epoch 16/30\n",
      "1719/1719 [==============================] - 2s 1ms/step - loss: 0.2881 - accuracy: 0.8965 - val_loss: 0.3440 - val_accuracy: 0.8714\n",
      "Epoch 17/30\n",
      "1719/1719 [==============================] - 2s 1ms/step - loss: 0.2833 - accuracy: 0.8972 - val_loss: 0.3576 - val_accuracy: 0.8688\n",
      "Epoch 18/30\n",
      "1719/1719 [==============================] - 2s 1ms/step - loss: 0.2771 - accuracy: 0.9010 - val_loss: 0.3382 - val_accuracy: 0.8790\n",
      "Epoch 19/30\n",
      "1719/1719 [==============================] - 2s 1ms/step - loss: 0.2723 - accuracy: 0.9015 - val_loss: 0.3900 - val_accuracy: 0.8546\n",
      "Epoch 20/30\n",
      "1719/1719 [==============================] - 2s 1ms/step - loss: 0.2676 - accuracy: 0.9048 - val_loss: 0.3365 - val_accuracy: 0.8772\n",
      "Epoch 21/30\n",
      "1719/1719 [==============================] - 2s 1ms/step - loss: 0.2625 - accuracy: 0.9059 - val_loss: 0.3318 - val_accuracy: 0.8792\n",
      "Epoch 22/30\n",
      "1719/1719 [==============================] - 2s 1ms/step - loss: 0.2573 - accuracy: 0.9069 - val_loss: 0.3223 - val_accuracy: 0.8852\n",
      "Epoch 23/30\n",
      "1719/1719 [==============================] - 2s 1ms/step - loss: 0.2531 - accuracy: 0.9085 - val_loss: 0.3471 - val_accuracy: 0.8716\n",
      "Epoch 24/30\n",
      "1719/1719 [==============================] - 2s 1ms/step - loss: 0.2482 - accuracy: 0.9103 - val_loss: 0.3423 - val_accuracy: 0.8760\n",
      "Epoch 25/30\n",
      "1719/1719 [==============================] - 2s 1ms/step - loss: 0.2445 - accuracy: 0.9117 - val_loss: 0.3385 - val_accuracy: 0.8778\n",
      "Epoch 26/30\n",
      "1719/1719 [==============================] - 2s 1ms/step - loss: 0.2404 - accuracy: 0.9142 - val_loss: 0.3196 - val_accuracy: 0.8858\n",
      "Epoch 27/30\n",
      "1719/1719 [==============================] - 2s 1ms/step - loss: 0.2352 - accuracy: 0.9157 - val_loss: 0.3339 - val_accuracy: 0.8830\n",
      "Epoch 28/30\n",
      "1719/1719 [==============================] - 2s 1ms/step - loss: 0.2322 - accuracy: 0.9167 - val_loss: 0.3298 - val_accuracy: 0.8838\n",
      "Epoch 29/30\n",
      "1719/1719 [==============================] - 2s 1ms/step - loss: 0.2279 - accuracy: 0.9174 - val_loss: 0.3230 - val_accuracy: 0.8822\n",
      "Epoch 30/30\n",
      "1719/1719 [==============================] - 2s 1ms/step - loss: 0.2243 - accuracy: 0.9200 - val_loss: 0.3121 - val_accuracy: 0.8902\n"
     ]
    },
    {
     "data": {
      "text/plain": [
       "<keras.src.callbacks.History at 0x7f775b9b6920>"
      ]
     },
     "execution_count": 41,
     "metadata": {},
     "output_type": "execute_result"
    }
   ],
   "source": [
    "model.fit(X_train, y_train, epochs=30, validation_data=(X_valid, y_valid))"
   ]
  },
  {
   "cell_type": "code",
   "execution_count": 43,
   "id": "1f9218f9-2fd4-4cd7-ac1a-4fdd3bbe27a7",
   "metadata": {},
   "outputs": [
    {
     "data": {
      "text/plain": [
       "<Axes: xlabel='Epoch'>"
      ]
     },
     "execution_count": 43,
     "metadata": {},
     "output_type": "execute_result"
    },
    {
     "data": {
      "image/png": "[encoded data removed]",
      "text/plain": [
       "<Figure size 800x500 with 1 Axes>"
      ]
     },
     "metadata": {},
     "output_type": "display_data"
    }
   ],
   "source": [
    "pd.DataFrame(model.history.history).plot(figsize=(8, 5), xlim=[0, 29], ylim=[0, 1], grid=True, xlabel=\"Epoch\", style=[\"r--\", \"r--.\", \"b-\", \"b-*\"])"
   ]
  },
  {
   "cell_type": "markdown",
   "id": "fccc3ea4-6b26-4dbe-9a95-576bc01587f1",
   "metadata": {},
   "source": [
    "We have a little bit of overfitting"
   ]
  },
  {
   "cell_type": "code",
   "execution_count": 44,
   "id": "4c0b400b-ee7f-49fd-8933-602db203606a",
   "metadata": {},
   "outputs": [
    {
     "name": "stdout",
     "output_type": "stream",
     "text": [
      "157/157 [==============================] - 0s 856us/step - loss: 0.3121 - accuracy: 0.8902\n"
     ]
    },
    {
     "data": {
      "text/plain": [
       "[0.312091588973999, 0.8902000188827515]"
      ]
     },
     "execution_count": 44,
     "metadata": {},
     "output_type": "execute_result"
    }
   ],
   "source": [
    "model.evaluate(X_test, y_test)"
   ]
  },
  {
   "cell_type": "code",
   "execution_count": 47,
   "id": "b7354a19-442b-4ea9-b8dc-5b896ee90ecb",
   "metadata": {},
   "outputs": [
    {
     "name": "stdout",
     "output_type": "stream",
     "text": [
      "1/1 [==============================] - 0s 44ms/step\n"
     ]
    },
    {
     "data": {
      "text/plain": [
       "array([[0.  , 0.  , 0.98, 0.  , 0.  , 0.  , 0.02, 0.  , 0.  , 0.  ],\n",
       "       [0.  , 0.  , 0.  , 1.  , 0.  , 0.  , 0.  , 0.  , 0.  , 0.  ],\n",
       "       [0.31, 0.  , 0.  , 0.  , 0.  , 0.  , 0.66, 0.  , 0.02, 0.  ]],\n",
       "      dtype=float32)"
      ]
     },
     "execution_count": 47,
     "metadata": {},
     "output_type": "execute_result"
    }
   ],
   "source": [
    "X_new = X_test[:3]\n",
    "y_proba = model.predict(X_new)\n",
    "y_proba.round(2)"
   ]
  },
  {
   "cell_type": "code",
   "execution_count": 49,
   "id": "4642ba5e-454e-4c30-bfa9-6381bee9cef3",
   "metadata": {},
   "outputs": [],
   "source": [
    "y_pred = y_proba.argmax(axis=-1)"
   ]
  },
  {
   "cell_type": "code",
   "execution_count": 50,
   "id": "aa95f0fa-3540-4c32-89d9-acbac2ece17f",
   "metadata": {},
   "outputs": [
    {
     "data": {
      "text/plain": [
       "array([2, 3, 6])"
      ]
     },
     "execution_count": 50,
     "metadata": {},
     "output_type": "execute_result"
    }
   ],
   "source": [
    "y_pred"
   ]
  },
  {
   "cell_type": "code",
   "execution_count": 51,
   "id": "02fce242-4f58-4429-a908-5dd19d5b09cd",
   "metadata": {},
   "outputs": [
    {
     "data": {
      "text/plain": [
       "array(['Pullover', 'Dress', 'Shirt'], dtype='<U11')"
      ]
     },
     "execution_count": 51,
     "metadata": {},
     "output_type": "execute_result"
    }
   ],
   "source": [
    "np.array(class_names)[y_pred]"
   ]
  },
  {
   "cell_type": "code",
   "execution_count": 55,
   "id": "57eede07-18cd-43b1-8fab-47b62b1f5bef",
   "metadata": {},
   "outputs": [
    {
     "data": {
      "text/plain": [
       "<matplotlib.image.AxesImage at 0x7f7695a50970>"
      ]
     },
     "execution_count": 55,
     "metadata": {},
     "output_type": "execute_result"
    },
    {
     "data": {
      "image/png": "[encoded data removed]",
      "text/plain": [
       "<Figure size 640x480 with 1 Axes>"
      ]
     },
     "metadata": {},
     "output_type": "display_data"
    }
   ],
   "source": [
    "plt.imshow(X_new[0], cmap=\"gray\")"
   ]
  },
  {
   "cell_type": "code",
   "execution_count": 56,
   "id": "c9a5a322-fd0b-4c3e-a78e-9927f04b12f6",
   "metadata": {},
   "outputs": [
    {
     "data": {
      "text/plain": [
       "<matplotlib.image.AxesImage at 0x7f76959004f0>"
      ]
     },
     "execution_count": 56,
     "metadata": {},
     "output_type": "execute_result"
    },
    {
     "data": {
      "image/png": "[encoded data removed]",
      "text/plain": [
       "<Figure size 640x480 with 1 Axes>"
      ]
     },
     "metadata": {},
     "output_type": "display_data"
    }
   ],
   "source": [
    "plt.imshow(X_new[1], cmap=\"gray\")"
   ]
  },
  {
   "cell_type": "code",
   "execution_count": 57,
   "id": "7394ebce-a0a3-45f1-9977-19b590a737b6",
   "metadata": {},
   "outputs": [
    {
     "data": {
      "text/plain": [
       "<matplotlib.image.AxesImage at 0x7f76959a90c0>"
      ]
     },
     "execution_count": 57,
     "metadata": {},
     "output_type": "execute_result"
    },
    {
     "data": {
      "image/png": "[encoded data removed]",
      "text/plain": [
       "<Figure size 640x480 with 1 Axes>"
      ]
     },
     "metadata": {},
     "output_type": "display_data"
    }
   ],
   "source": [
    "plt.imshow(X_new[2], cmap=\"gray\")"
   ]
  }
 ],
 "metadata": {
  "kernelspec": {
   "display_name": "Python 3 (ipykernel)",
   "language": "python",
   "name": "python3"
  },
  "language_info": {
   "codemirror_mode": {
    "name": "ipython",
    "version": 3
   },
   "file_extension": ".py",
   "mimetype": "text/x-python",
   "name": "python",
   "nbconvert_exporter": "python",
   "pygments_lexer": "ipython3",
   "version": "3.10.12"
  }
 },
 "nbformat": 4,
 "nbformat_minor": 5
}
